{
 "cells": [
  {
   "cell_type": "code",
   "execution_count": 2,
   "metadata": {},
   "outputs": [
    {
     "name": "stderr",
     "output_type": "stream",
     "text": [
      "2024-05-27 14:28:36.033570: I tensorflow/core/platform/cpu_feature_guard.cc:193] This TensorFlow binary is optimized with oneAPI Deep Neural Network Library (oneDNN) to use the following CPU instructions in performance-critical operations:  AVX2 AVX_VNNI FMA\n",
      "To enable them in other operations, rebuild TensorFlow with the appropriate compiler flags.\n",
      "2024-05-27 14:28:36.086614: I tensorflow/core/util/util.cc:169] oneDNN custom operations are on. You may see slightly different numerical results due to floating-point round-off errors from different computation orders. To turn them off, set the environment variable `TF_ENABLE_ONEDNN_OPTS=0`.\n",
      "2024-05-27 14:28:36.089448: W tensorflow/stream_executor/platform/default/dso_loader.cc:64] Could not load dynamic library 'libcudart.so.11.0'; dlerror: libcudart.so.11.0: cannot open shared object file: No such file or directory; LD_LIBRARY_PATH: /home/infor/miniconda3/envs/torch/lib/python3.9/site-packages/cv2/../../lib64:\n",
      "2024-05-27 14:28:36.089459: I tensorflow/stream_executor/cuda/cudart_stub.cc:29] Ignore above cudart dlerror if you do not have a GPU set up on your machine.\n",
      "2024-05-27 14:28:36.103132: E tensorflow/stream_executor/cuda/cuda_blas.cc:2981] Unable to register cuBLAS factory: Attempting to register factory for plugin cuBLAS when one has already been registered\n",
      "2024-05-27 14:28:36.386479: W tensorflow/stream_executor/platform/default/dso_loader.cc:64] Could not load dynamic library 'libnvinfer.so.7'; dlerror: libnvinfer.so.7: cannot open shared object file: No such file or directory; LD_LIBRARY_PATH: /home/infor/miniconda3/envs/torch/lib/python3.9/site-packages/cv2/../../lib64:\n",
      "2024-05-27 14:28:36.386520: W tensorflow/stream_executor/platform/default/dso_loader.cc:64] Could not load dynamic library 'libnvinfer_plugin.so.7'; dlerror: libnvinfer_plugin.so.7: cannot open shared object file: No such file or directory; LD_LIBRARY_PATH: /home/infor/miniconda3/envs/torch/lib/python3.9/site-packages/cv2/../../lib64:\n",
      "2024-05-27 14:28:36.386523: W tensorflow/compiler/tf2tensorrt/utils/py_utils.cc:38] TF-TRT Warning: Cannot dlopen some TensorRT libraries. If you would like to use Nvidia GPU with TensorRT, please make sure the missing libraries mentioned above are installed properly.\n"
     ]
    }
   ],
   "source": [
    "import os\n",
    "import cv2\n",
    "import numpy as np\n",
    "import pandas as pd\n",
    "import seaborn as sns\n",
    "import imageio\n",
    "import matplotlib.pyplot as plt\n",
    "from sklearn.metrics import confusion_matrix, classification_report, precision_score, recall_score, f1_score\n",
    "from keras.models import Sequential\n",
    "from keras.layers import Dense, Dropout, Activation, Flatten, Conv3D, MaxPooling3D\n",
    "from keras.optimizers import SGD\n",
    "from keras.utils import np_utils\n",
    "from keras import backend as K\n",
    "from sklearn.metrics import classification_report, confusion_matrix, ConfusionMatrixDisplay"
   ]
  },
  {
   "cell_type": "code",
   "execution_count": 3,
   "metadata": {},
   "outputs": [
    {
     "name": "stdout",
     "output_type": "stream",
     "text": [
      "(228, 1, 64, 64, 96)\n"
     ]
    }
   ],
   "source": [
    "K.set_image_data_format('channels_first')\n",
    "image_rows, image_columns, image_depth = 64, 64, 96\n",
    "look_frames = int(image_depth / 2)\n",
    "num_classes = 3\n",
    "\n",
    "process_detect = False\n",
    "version = True\n",
    "\n",
    "training_list = np.load('images_new.npy')\n",
    "\n",
    "training_list = np.asarray(training_list)\n",
    "trainingsamples = len(training_list)\n",
    "\n",
    "# Setting labels\n",
    "traininglabels = np.zeros((trainingsamples,), dtype=int)\n",
    "if version:\n",
    "    traininglabels[0:50] = 0  # 50 video clips (anger)\n",
    "    traininglabels[50:178] = 1  # 128 video clips (happiness)\n",
    "    traininglabels[178:228] = 2  # 50 video clips (disgust)\n",
    "else:\n",
    "    traininglabels[0:8] = 0  # 8 video clips (anger)\n",
    "    traininglabels[8:23] = 1  # 15 video clips (happiness)\n",
    "    traininglabels[23:39] = 2  # 16 video clips (disgust)\n",
    "traininglabels = np_utils.to_categorical(traininglabels, num_classes)  # one-hot encoding\n",
    "\n",
    "# Convert data to 5D\n",
    "training_set = np.zeros((trainingsamples, 1, image_rows, image_columns, image_depth))\n",
    "for h in range(trainingsamples):\n",
    "    training_set[h][0][:][:][:] = training_list[h, :, :, :]\n",
    "print(training_set.shape)\n",
    "\n",
    "# Normalize data\n",
    "training_set = training_set.astype('float32')\n",
    "training_set -= np.mean(training_set)\n",
    "training_set /= np.max(training_set)"
   ]
  },
  {
   "cell_type": "code",
   "execution_count": 4,
   "metadata": {},
   "outputs": [],
   "source": [
    "class SimpleNN:\n",
    "    def __init__(self, input_size, hidden_size, output_size):\n",
    "        self.weights1 = np.random.rand(input_size, hidden_size)\n",
    "        self.bias1 = np.random.rand(hidden_size)\n",
    "        self.weights2 = np.random.rand(hidden_size, output_size)\n",
    "        self.bias2 = np.random.rand(output_size)\n",
    "\n",
    "    def forward(self, x):\n",
    "        self.z1 = np.dot(x, self.weights1) + self.bias1\n",
    "        self.a1 = self.relu(self.z1)\n",
    "        self.z2 = np.dot(self.a1, self.weights2) + self.bias2\n",
    "        return self.softmax(self.z2)\n",
    "\n",
    "    def relu(self, x):\n",
    "        return np.maximum(0, x)\n",
    "\n",
    "    def softmax(self, x):\n",
    "        exp_x = np.exp(x - np.max(x, axis=1, keepdims=True))\n",
    "        return exp_x / np.sum(exp_x, axis=1, keepdims=True)\n",
    "\n",
    "    def backward(self, x, y, output, learning_rate):\n",
    "        output_error = output - y\n",
    "        d_weights2 = np.dot(self.a1.T, output_error)\n",
    "        d_bias2 = np.sum(output_error, axis=0)\n",
    "        hidden_error = np.dot(output_error, self.weights2.T) * (self.a1 > 0)\n",
    "        d_weights1 = np.dot(x.T, hidden_error)\n",
    "        d_bias1 = np.sum(hidden_error, axis=0)\n",
    "        self.weights1 -= learning_rate * d_weights1\n",
    "        self.bias1 -= learning_rate * d_bias1\n",
    "        self.weights2 -= learning_rate * d_weights2\n",
    "        self.bias2 -= learning_rate * d_bias2"
   ]
  },
  {
   "cell_type": "code",
   "execution_count": 5,
   "metadata": {},
   "outputs": [],
   "source": [
    "def fed_avg(models):\n",
    "    avg_model = SimpleNN(input_size, hidden_size, output_size)\n",
    "    num_models = len(models)\n",
    "    avg_model.weights1 = np.mean([model.weights1 for model in models], axis=0)\n",
    "    avg_model.bias1 = np.mean([model.bias1 for model in models], axis=0)\n",
    "    avg_model.weights2 = np.mean([model.weights2 for model in models], axis=0)\n",
    "    avg_model.bias2 = np.mean([model.bias2 for model in models], axis=0)\n",
    "    return avg_model\n"
   ]
  },
  {
   "cell_type": "code",
   "execution_count": 6,
   "metadata": {},
   "outputs": [],
   "source": [
    "def generate_data(num_samples, input_size, output_size):\n",
    "    X = np.random.rand(num_samples, input_size)\n",
    "    y = np.eye(output_size)[np.random.choice(output_size, num_samples)]\n",
    "    return X, y\n",
    "\n"
   ]
  },
  {
   "cell_type": "code",
   "execution_count": 7,
   "metadata": {},
   "outputs": [],
   "source": [
    "def train(model, X, y, epochs, learning_rate):\n",
    "    for epoch in range(epochs):\n",
    "        output = model.forward(X)\n",
    "        model.backward(X, y, output, learning_rate)"
   ]
  },
  {
   "cell_type": "code",
   "execution_count": 8,
   "metadata": {},
   "outputs": [
    {
     "name": "stdout",
     "output_type": "stream",
     "text": [
      "Round 1 complete\n",
      "Round 2 complete\n",
      "Round 3 complete\n",
      "Round 4 complete\n",
      "Round 5 complete\n",
      "Round 6 complete\n",
      "Round 7 complete\n",
      "Round 8 complete\n",
      "Round 9 complete\n",
      "Round 10 complete\n",
      "Round 11 complete\n",
      "Round 12 complete\n",
      "Round 13 complete\n",
      "Round 14 complete\n",
      "Round 15 complete\n",
      "Round 16 complete\n",
      "Round 17 complete\n",
      "Round 18 complete\n",
      "Round 19 complete\n",
      "Round 20 complete\n",
      "Round 21 complete\n",
      "Round 22 complete\n",
      "Round 23 complete\n",
      "Round 24 complete\n",
      "Round 25 complete\n",
      "Round 26 complete\n",
      "Round 27 complete\n",
      "Round 28 complete\n",
      "Round 29 complete\n",
      "Round 30 complete\n",
      "Round 31 complete\n",
      "Round 32 complete\n",
      "Round 33 complete\n",
      "Round 34 complete\n",
      "Round 35 complete\n",
      "Round 36 complete\n",
      "Round 37 complete\n",
      "Round 38 complete\n",
      "Round 39 complete\n",
      "Round 40 complete\n",
      "Round 41 complete\n",
      "Round 42 complete\n",
      "Round 43 complete\n",
      "Round 44 complete\n",
      "Round 45 complete\n",
      "Round 46 complete\n",
      "Round 47 complete\n",
      "Round 48 complete\n",
      "Round 49 complete\n",
      "Round 50 complete\n",
      "Accuracy: 0.5614\n",
      "              precision    recall  f1-score   support\n",
      "\n",
      "           0       0.00      0.00      0.00        50\n",
      "           1       0.56      1.00      0.72       128\n",
      "           2       0.00      0.00      0.00        50\n",
      "\n",
      "    accuracy                           0.56       228\n",
      "   macro avg       0.19      0.33      0.24       228\n",
      "weighted avg       0.32      0.56      0.40       228\n",
      "\n"
     ]
    },
    {
     "name": "stderr",
     "output_type": "stream",
     "text": [
      "/home/infor/miniconda3/envs/torch/lib/python3.9/site-packages/sklearn/metrics/_classification.py:1344: UndefinedMetricWarning: Precision and F-score are ill-defined and being set to 0.0 in labels with no predicted samples. Use `zero_division` parameter to control this behavior.\n",
      "  _warn_prf(average, modifier, msg_start, len(result))\n",
      "/home/infor/miniconda3/envs/torch/lib/python3.9/site-packages/sklearn/metrics/_classification.py:1344: UndefinedMetricWarning: Precision and F-score are ill-defined and being set to 0.0 in labels with no predicted samples. Use `zero_division` parameter to control this behavior.\n",
      "  _warn_prf(average, modifier, msg_start, len(result))\n",
      "/home/infor/miniconda3/envs/torch/lib/python3.9/site-packages/sklearn/metrics/_classification.py:1344: UndefinedMetricWarning: Precision and F-score are ill-defined and being set to 0.0 in labels with no predicted samples. Use `zero_division` parameter to control this behavior.\n",
      "  _warn_prf(average, modifier, msg_start, len(result))\n"
     ]
    },
    {
     "data": {
      "image/png": "[encoded data removed]",
      "text/plain": [
       "<Figure size 640x480 with 2 Axes>"
      ]
     },
     "metadata": {},
     "output_type": "display_data"
    }
   ],
   "source": [
    "# Main federated learning training loop\n",
    "NUM_CLIENTS = 10\n",
    "NUM_ROUNDS = 50\n",
    "input_size = image_rows * image_columns * image_depth  # Example input size\n",
    "hidden_size = 64  # Example hidden layer size\n",
    "output_size = num_classes  # Example number of classes\n",
    "learning_rate = 0.1\n",
    "epochs = 5\n",
    "\n",
    "# Initialize models for each client\n",
    "client_models = [SimpleNN(input_size, hidden_size, output_size) for _ in range(NUM_CLIENTS)]\n",
    "\n",
    "# Prepare training data for each client\n",
    "X_train_list = []\n",
    "y_train_list = []\n",
    "for i in range(NUM_CLIENTS):\n",
    "    X_train = training_set[i::NUM_CLIENTS].reshape(-1, input_size)\n",
    "    y_train = traininglabels[i::NUM_CLIENTS]\n",
    "    X_train_list.append(X_train)\n",
    "    y_train_list.append(y_train)\n",
    "\n",
    "for round_num in range(NUM_ROUNDS):\n",
    "    # Simulate client training\n",
    "    for client_model, X_train, y_train in zip(client_models, X_train_list, y_train_list):\n",
    "        train(client_model, X_train, y_train, epochs, learning_rate)\n",
    "\n",
    "    # Aggregate the models using FedAvg\n",
    "    global_model = fed_avg(client_models)\n",
    "\n",
    "    # Update client models with the global model\n",
    "    for client_model in client_models:\n",
    "        client_model.weights1 = np.copy(global_model.weights1)\n",
    "        client_model.bias1 = np.copy(global_model.bias1)\n",
    "        client_model.weights2 = np.copy(global_model.weights2)\n",
    "        client_model.bias2 = np.copy(global_model.bias2)\n",
    "\n",
    "    print(f'Round {round_num + 1} complete')\n",
    "\n",
    "# Example of using the trained global model\n",
    "X_test = training_set.reshape(trainingsamples, -1)\n",
    "y_test = traininglabels\n",
    "predictions = global_model.forward(X_test)\n",
    "predicted_labels = np.argmax(predictions, axis=1)\n",
    "true_labels = np.argmax(y_test, axis=1)\n",
    "\n",
    "# Calculate accuracy\n",
    "accuracy = np.mean(predicted_labels == true_labels)\n",
    "print(f'Accuracy: {accuracy:.4f}')\n",
    "\n",
    "# Classification report\n",
    "print(classification_report(true_labels, predicted_labels))\n",
    "\n",
    "# Confusion matrix\n",
    "cm = confusion_matrix(true_labels, predicted_labels)\n",
    "disp = ConfusionMatrixDisplay(confusion_matrix=cm, display_labels=np.arange(output_size))\n",
    "disp.plot()\n",
    "plt.show()"
   ]
  }
 ],
 "metadata": {
  "kernelspec": {
   "display_name": "torch",
   "language": "python",
   "name": "python3"
  },
  "language_info": {
   "codemirror_mode": {
    "name": "ipython",
    "version": 3
   },
   "file_extension": ".py",
   "mimetype": "text/x-python",
   "name": "python",
   "nbconvert_exporter": "python",
   "pygments_lexer": "ipython3",
   "version": "3.9.19"
  }
 },
 "nbformat": 4,
 "nbformat_minor": 2
}
